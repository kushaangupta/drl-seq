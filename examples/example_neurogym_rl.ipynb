{
 "cells": [
  {
   "cell_type": "markdown",
   "metadata": {
    "colab_type": "text",
    "heading_collapsed": true,
    "id": "4zW6CU8F69Zp"
   },
   "source": [
    "## Reinforcement learning example with stable-baselines"
   ]
  },
  {
   "cell_type": "markdown",
   "metadata": {
    "colab_type": "text",
    "id": "jzF5leN1R2xU"
   },
   "source": [
    "### Task"
   ]
  },
  {
   "cell_type": "code",
   "execution_count": null,
   "metadata": {},
   "outputs": [],
   "source": [
    "import gymnasium as gym\n",
    "import neurogym as ngym\n",
    "from neurogym.wrappers import pass_reward\n",
    "import matplotlib.pyplot as plt"
   ]
  },
  {
   "cell_type": "code",
   "execution_count": null,
   "metadata": {
    "colab": {
     "base_uri": "https://localhost:8080/",
     "height": 1000
    },
    "colab_type": "code",
    "id": "RaH9CcJdHY5G",
    "outputId": "25cc6eaa-0531-4e53-df94-c8fe3979aaf0"
   },
   "outputs": [],
   "source": [
    "# Task name\n",
    "name = 'contrib.SequenceAlternation-v0'\n",
    "# task specification (here we only specify the duration of the different trial periods)\n",
    "rewards =  {'correct': +1., 'fail': 0.}\n",
    "\n",
    "kwargs = {'dt': 100, 'cued_epoch_periodicity': 3}  #'rewards': rewards, 'opponent_type': opponent_type, 'learning_rate': learning_rate}\n",
    "\n",
    "# build task\n",
    "env = gym.make(name, **kwargs)\n",
    "# print task properties\n",
    "print(env)\n",
    "\n",
    "# wrapp task with pass-reward wrapper\n",
    "env = pass_reward.PassReward(env)\n",
    "# plot example trials with random agent\n",
    "data = ngym.utils.plot_env(\n",
    "    env, fig_kwargs={'figsize': (12, 12)}, num_steps=1000)"
   ]
  },
  {
   "cell_type": "markdown",
   "metadata": {
    "colab_type": "text",
    "id": "OCFMPbzX38Wj"
   },
   "source": [
    "### Train a network"
   ]
  },
  {
   "cell_type": "code",
   "execution_count": null,
   "metadata": {
    "code_folding": [],
    "colab": {
     "base_uri": "https://localhost:8080/",
     "height": 1000
    },
    "colab_type": "code",
    "id": "jAxTPbzL38Wl",
    "outputId": "b7370af5-5628-4cb3-e734-3accfe0fb0e9"
   },
   "outputs": [],
   "source": [
    "from stable_baselines3.common.vec_env import DummyVecEnv\n",
    "from stable_baselines3 import A2C  # ACER, PPO2\n",
    "from sb3_contrib import RecurrentPPO\n",
    "\n",
    "# # Optional: PPO2 requires a vectorized environment to run\n",
    "# # the env is now wrapped automatically when passing it to the constructor\n",
    "# env = DummyVecEnv([lambda: env])\n",
    "\n",
    "model = RecurrentPPO(\"MlpLstmPolicy\", env, verbose=1)\n",
    "# 30*10^6 steps\n",
    "model.load(\"ppo2_sequencealternation\")\n",
    "model.learn(total_timesteps=3_000, log_interval=500_000)\n",
    "# model.save(\"ppo2_sequencealternation\")\n",
    "env.close()"
   ]
  },
  {
   "cell_type": "markdown",
   "metadata": {
    "colab_type": "text",
    "id": "svUQlptJAVv9"
   },
   "source": [
    "### Visualize results"
   ]
  },
  {
   "cell_type": "code",
   "execution_count": null,
   "metadata": {
    "colab": {
     "base_uri": "https://localhost:8080/",
     "height": 1000
    },
    "colab_type": "code",
    "id": "qPrh-kiI8rbB",
    "outputId": "be1e5cbf-23e0-49ca-8468-a93836888772"
   },
   "outputs": [],
   "source": [
    "env = gym.make(name, **kwargs)\n",
    "# print task properties\n",
    "print(env)\n",
    "# wrapp task with pass-reward wrapper\n",
    "env = pass_reward.PassReward(env)\n",
    "# env = DummyVecEnv([lambda: env])\n",
    "# plot example trials with random agent\n",
    "data = ngym.utils.plot_env(env, fig_kwargs={'figsize': (12, 12)}, num_steps=400, model=model)"
   ]
  },
  {
   "cell_type": "code",
   "execution_count": null,
   "metadata": {},
   "outputs": [],
   "source": [
    "seq_len = 10\n",
    "\n",
    "# Make supervised dataset\n",
    "dataset = ngym.Dataset('PerceptualDecisionMaking-v0', batch_size=16,\n",
    "                       seq_len=seq_len)\n",
    "env = dataset.env\n",
    "ob_size = env.observation_space.shape[0]\n",
    "act_size = env.action_space.n"
   ]
  },
  {
   "cell_type": "code",
   "execution_count": null,
   "metadata": {},
   "outputs": [],
   "source": [
    "a, b = next(dataset)\n",
    "a.shape, b.shape"
   ]
  },
  {
   "cell_type": "code",
   "execution_count": null,
   "metadata": {},
   "outputs": [],
   "source": [
    "import numpy as np\n",
    "\n",
    "def generate_sequence(num_range, sequence_length):\n",
    "    numel = sequence_length // 2 + 1\n",
    "    sequence = np.random.choice(num_range, size=numel, replace=False)\n",
    "    sequence = np.insert(\n",
    "        sequence, -1, values=sequence[: sequence_length - numel]\n",
    "    )\n",
    "    return sequence\n",
    "\n",
    "generate_sequence(8, 8)"
   ]
  },
  {
   "cell_type": "code",
   "execution_count": null,
   "metadata": {},
   "outputs": [],
   "source": [
    "from itertools import permutations\n",
    "\n",
    "def generate_unique_sequences(num_range, sequence_length):\n",
    "    numel = sequence_length // 2 + 1\n",
    "    uniqe_elements_perms = permutations(range(num_range), numel)\n",
    "    unique_sequences = []\n",
    "    for perm in uniqe_elements_perms:\n",
    "        sequence = np.insert(\n",
    "            perm, -1, values=perm[: sequence_length - numel])\n",
    "        unique_sequences.append(sequence)\n",
    "    return unique_sequences\n",
    "\n",
    "num_range = 7\n",
    "sequence_length = 8\n",
    "dataset = generate_unique_sequences(num_range, sequence_length)\n",
    "assert np.math.perm(num_range, sequence_length // 2 + 1) == len(dataset)\n",
    "\n",
    "def generate_dataset(num_range, sequence_length, batch_size):\n",
    "    \"\"\"_summary_\n",
    "\n",
    "    Parameters\n",
    "    ----------\n",
    "    num_range : _type_\n",
    "        _description_\n",
    "    sequence_length : _type_\n",
    "        _description_\n",
    "    batch_size : _type_\n",
    "        _description_\n",
    "\n",
    "    Returns\n",
    "    -------\n",
    "    _type_\n",
    "        _description_\n",
    "    \n",
    "    Example sequence\n",
    "    ----------------\n",
    "        x = [3, 2, 4, 1, 3, 2, 4, 6, 0, 0, 0, 0, 0, 0, 0, 0]\n",
    "        y = [3, 2, 4, 1, 3, 2, 4, 6, 3, 2, 4, 1, 3, 2, 4, 6]\n",
    "    \"\"\"\n",
    "    unique_sequences = generate_unique_sequences(num_range, sequence_length)\n",
    "    dataset = []\n",
    "    for _ in range(batch_size):\n",
    "        for sequence in unique_sequences:\n",
    "            dataset.append(sequence)\n",
    "    return dataset"
   ]
  },
  {
   "attachments": {},
   "cell_type": "markdown",
   "metadata": {},
   "source": [
    "---"
   ]
  }
 ],
 "metadata": {
  "accelerator": "GPU",
  "colab": {
   "collapsed_sections": [],
   "include_colab_link": true,
   "name": "example_neurogym_rl.ipynb",
   "provenance": []
  },
  "hide_input": false,
  "kernelspec": {
   "display_name": "Python 3",
   "language": "python",
   "name": "python3"
  },
  "language_info": {
   "codemirror_mode": {
    "name": "ipython",
    "version": 3
   },
   "file_extension": ".py",
   "mimetype": "text/x-python",
   "name": "python",
   "nbconvert_exporter": "python",
   "pygments_lexer": "ipython3",
   "version": "3.8.16"
  },
  "toc": {
   "base_numbering": 1,
   "nav_menu": {},
   "number_sections": true,
   "sideBar": true,
   "skip_h1_title": false,
   "title_cell": "Table of Contents",
   "title_sidebar": "Contents",
   "toc_cell": false,
   "toc_position": {},
   "toc_section_display": true,
   "toc_window_display": false
  },
  "varInspector": {
   "cols": {
    "lenName": 16,
    "lenType": 16,
    "lenVar": 40
   },
   "kernels_config": {
    "python": {
     "delete_cmd_postfix": "",
     "delete_cmd_prefix": "del ",
     "library": "var_list.py",
     "varRefreshCmd": "print(var_dic_list())"
    },
    "r": {
     "delete_cmd_postfix": ") ",
     "delete_cmd_prefix": "rm(",
     "library": "var_list.r",
     "varRefreshCmd": "cat(var_dic_list()) "
    }
   },
   "types_to_exclude": [
    "module",
    "function",
    "builtin_function_or_method",
    "instance",
    "_Feature"
   ],
   "window_display": false
  }
 },
 "nbformat": 4,
 "nbformat_minor": 1
}
